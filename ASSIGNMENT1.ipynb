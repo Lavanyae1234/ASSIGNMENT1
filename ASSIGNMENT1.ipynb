{
 "cells": [
  {
   "cell_type": "code",
   "execution_count": null,
   "id": "dd9837e0",
   "metadata": {},
   "outputs": [],
   "source": [
    "values are 'hello', -87.8,6\n",
    "expressions are * ,- ,/,+"
   ]
  },
  {
   "cell_type": "code",
   "execution_count": null,
   "id": "d719e96a",
   "metadata": {},
   "outputs": [],
   "source": [
    "variable is name refered to store data.\n",
    "string are data representing text."
   ]
  },
  {
   "cell_type": "code",
   "execution_count": null,
   "id": "4b2cafbe",
   "metadata": {},
   "outputs": [],
   "source": [
    "1. string - data stored will be textform.(eg:\"this is my first assignment\")\n",
    "2. int - data is wholenumbers(eg:23,6789)\n",
    "3.float- decimal numbers(eg: 23.45)\n",
    "4. list- collection of data [](eg:[2,3,4,5])\n",
    "5. tuple- collection of data()(eg:(4,5,6,7))\n",
    "6.dict- collection of data{}(eg:{\"k1\" : \"lav\",\"k2\" : \"ineuron\" })"
   ]
  },
  {
   "cell_type": "code",
   "execution_count": 1,
   "id": "49c9c6e4",
   "metadata": {},
   "outputs": [
    {
     "data": {
      "text/plain": [
       "23"
      ]
     },
     "execution_count": 1,
     "metadata": {},
     "output_type": "execute_result"
    }
   ],
   "source": [
    "bacon = 22\n",
    "bacon + 1\n"
   ]
  },
  {
   "cell_type": "code",
   "execution_count": 2,
   "id": "1b3fed53",
   "metadata": {},
   "outputs": [
    {
     "data": {
      "text/plain": [
       "'spamspamspam'"
      ]
     },
     "execution_count": 2,
     "metadata": {},
     "output_type": "execute_result"
    }
   ],
   "source": [
    "'spam' +'spamspam'"
   ]
  },
  {
   "cell_type": "code",
   "execution_count": 3,
   "id": "0c20abba",
   "metadata": {},
   "outputs": [
    {
     "data": {
      "text/plain": [
       "'spamspamspam'"
      ]
     },
     "execution_count": 3,
     "metadata": {},
     "output_type": "execute_result"
    }
   ],
   "source": [
    "'spam'*3"
   ]
  },
  {
   "cell_type": "code",
   "execution_count": null,
   "id": "8c5b4c2f",
   "metadata": {},
   "outputs": [],
   "source": [
    "eggs is a variable name because in python name of variable always start with alphabet letter,\n",
    "100 is invalid name as variable cannot start with a number."
   ]
  },
  {
   "cell_type": "code",
   "execution_count": 5,
   "id": "d3838f27",
   "metadata": {},
   "outputs": [
    {
     "ename": "ValueError",
     "evalue": "invalid literal for int() with base 10: 'A'",
     "output_type": "error",
     "traceback": [
      "\u001b[1;31m---------------------------------------------------------------------------\u001b[0m",
      "\u001b[1;31mValueError\u001b[0m                                Traceback (most recent call last)",
      "Input \u001b[1;32mIn [5]\u001b[0m, in \u001b[0;36m<cell line: 2>\u001b[1;34m()\u001b[0m\n\u001b[0;32m      1\u001b[0m a\u001b[38;5;241m=\u001b[39m\u001b[38;5;124m'\u001b[39m\u001b[38;5;124mA\u001b[39m\u001b[38;5;124m'\u001b[39m\n\u001b[1;32m----> 2\u001b[0m \u001b[38;5;28mprint\u001b[39m(\u001b[38;5;28;43mint\u001b[39;49m\u001b[43m(\u001b[49m\u001b[43ma\u001b[49m\u001b[43m)\u001b[49m)\n",
      "\u001b[1;31mValueError\u001b[0m: invalid literal for int() with base 10: 'A'"
     ]
    }
   ],
   "source": [
    "a=100.30\n",
    "print(int(a))"
   ]
  },
  {
   "cell_type": "code",
   "execution_count": null,
   "id": "fcec3c0a",
   "metadata": {},
   "outputs": [],
   "source": [
    "\n",
    "to get integer we use int()\n",
    "to get floating pointnumber we use float()\n",
    "to get string we use str()\n"
   ]
  },
  {
   "cell_type": "code",
   "execution_count": 6,
   "id": "552e61d9",
   "metadata": {},
   "outputs": [
    {
     "ename": "TypeError",
     "evalue": "can only concatenate str (not \"int\") to str",
     "output_type": "error",
     "traceback": [
      "\u001b[1;31m---------------------------------------------------------------------------\u001b[0m",
      "\u001b[1;31mTypeError\u001b[0m                                 Traceback (most recent call last)",
      "Input \u001b[1;32mIn [6]\u001b[0m, in \u001b[0;36m<cell line: 1>\u001b[1;34m()\u001b[0m\n\u001b[1;32m----> 1\u001b[0m \u001b[38;5;124;43m'\u001b[39;49m\u001b[38;5;124;43mI have eaten\u001b[39;49m\u001b[38;5;124;43m'\u001b[39;49m\u001b[43m \u001b[49m\u001b[38;5;241;43m+\u001b[39;49m\u001b[43m \u001b[49m\u001b[38;5;241;43m99\u001b[39;49m \u001b[38;5;241m+\u001b[39m \u001b[38;5;124m'\u001b[39m\u001b[38;5;124mburritos\u001b[39m\u001b[38;5;124m'\u001b[39m\n",
      "\u001b[1;31mTypeError\u001b[0m: can only concatenate str (not \"int\") to str"
     ]
    }
   ],
   "source": [
    "'I have eaten' + 99 + 'burritos'"
   ]
  },
  {
   "cell_type": "code",
   "execution_count": null,
   "id": "cafc052f",
   "metadata": {},
   "outputs": [],
   "source": [
    "we get error as string cannot be clubed with integer\n"
   ]
  },
  {
   "cell_type": "code",
   "execution_count": 8,
   "id": "29606a13",
   "metadata": {},
   "outputs": [
    {
     "data": {
      "text/plain": [
       "'I have eaten 99 burritos'"
      ]
     },
     "execution_count": 8,
     "metadata": {},
     "output_type": "execute_result"
    }
   ],
   "source": [
    "'I have eaten' + ' 99 ' + 'burritos'"
   ]
  },
  {
   "cell_type": "code",
   "execution_count": null,
   "id": "3507deed",
   "metadata": {},
   "outputs": [],
   "source": [
    "can fix it by taking 99 as a string form."
   ]
  }
 ],
 "metadata": {
  "kernelspec": {
   "display_name": "Python 3 (ipykernel)",
   "language": "python",
   "name": "python3"
  },
  "language_info": {
   "codemirror_mode": {
    "name": "ipython",
    "version": 3
   },
   "file_extension": ".py",
   "mimetype": "text/x-python",
   "name": "python",
   "nbconvert_exporter": "python",
   "pygments_lexer": "ipython3",
   "version": "3.9.12"
  }
 },
 "nbformat": 4,
 "nbformat_minor": 5
}
